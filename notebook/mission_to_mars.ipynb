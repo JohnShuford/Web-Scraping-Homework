{
 "cells": [
  {
   "cell_type": "markdown",
   "metadata": {},
   "source": [
    "# Mission to Mars"
   ]
  },
  {
   "cell_type": "code",
   "execution_count": 24,
   "metadata": {},
   "outputs": [],
   "source": [
    "#import dependencies\n",
    "from splinter import Browser\n",
    "from bs4 import BeautifulSoup\n",
    "from webdriver_manager.chrome import ChromeDriverManager\n",
    "import pandas as pd\n",
    "import requests\n",
    "from pprint import pprint"
   ]
  },
  {
   "cell_type": "markdown",
   "metadata": {},
   "source": [
    "# Step 1 - Scraping"
   ]
  },
  {
   "cell_type": "markdown",
   "metadata": {},
   "source": [
    "## NASA Mars News\n",
    "- setup splinter and open the browser\n",
    "- get the first title and paragraph"
   ]
  },
  {
   "cell_type": "code",
   "execution_count": 29,
   "metadata": {},
   "outputs": [
    {
     "name": "stderr",
     "output_type": "stream",
     "text": [
      "[WDM] - Current google-chrome version is 87.0.4280\n",
      "[WDM] - Get LATEST driver version for 87.0.4280\n",
      "[WDM] - Driver [/Users/johnnyshuford/.wdm/drivers/chromedriver/mac64/87.0.4280.88/chromedriver] found in cache\n"
     ]
    },
    {
     "name": "stdout",
     "output_type": "stream",
     "text": [
      " \n"
     ]
    }
   ],
   "source": [
    "# Setup splinter\n",
    "executable_path = {'executable_path': ChromeDriverManager().install()}\n",
    "browser = Browser('chrome', **executable_path, headless=False)\n",
    "\n",
    "#url of the page to be scraped\n",
    "url = 'https://mars.nasa.gov/news/'\n",
    "\n",
    "#get splinter to visit the url\n",
    "browser.visit(url)\n",
    "\n",
    "#create a soup object and parse it\n",
    "html = browser.html\n",
    "soup = BeautifulSoup(html, 'html.parser')"
   ]
  },
  {
   "cell_type": "code",
   "execution_count": 7,
   "metadata": {},
   "outputs": [],
   "source": [
    "#get the first title\n",
    "titles = soup.find_all('div', class_='content_title', limit = 2)\n",
    "news_title = titles[1].text"
   ]
  },
  {
   "cell_type": "code",
   "execution_count": 8,
   "metadata": {},
   "outputs": [],
   "source": [
    "#get the first paragraph\n",
    "pargs = soup.find_all('div', class_='article_teaser_body', limit = 1)\n",
    "news_p = pargs[0].text"
   ]
  },
  {
   "cell_type": "code",
   "execution_count": 9,
   "metadata": {},
   "outputs": [],
   "source": [
    "#quit the running browser\n",
    "browser.quit()"
   ]
  },
  {
   "cell_type": "markdown",
   "metadata": {},
   "source": [
    "## JPL Mars Space Images - Featured Image\n",
    "- opening the browser\n",
    "- getting the featured image"
   ]
  },
  {
   "cell_type": "code",
   "execution_count": 10,
   "metadata": {},
   "outputs": [],
   "source": [
    "#opening the browser\n",
    "browser = Browser('chrome', **executable_path, headless=False)\n",
    "\n",
    "#url of the page to be scraped\n",
    "url = 'https://www.jpl.nasa.gov/spaceimages/?search=&category=Mars'\n",
    "\n",
    "#get splinter to visit the url\n",
    "browser.visit(url)\n",
    "\n",
    "#create a soup object and parse it\n",
    "html = browser.html\n",
    "soup = BeautifulSoup(html, 'html.parser')"
   ]
  },
  {
   "cell_type": "code",
   "execution_count": 11,
   "metadata": {},
   "outputs": [],
   "source": [
    "#navigate to the right page using splinter\n",
    "browser.links.find_by_partial_text('FULL IMAGE').click()\n",
    "browser.links.find_by_partial_text('more info').click()"
   ]
  },
  {
   "cell_type": "code",
   "execution_count": 12,
   "metadata": {},
   "outputs": [],
   "source": [
    "#get the image url\n",
    "img_url = soup.find('article', class_='carousel_item')['style'].replace('background-image: url(','').replace(');','')[1:-1]"
   ]
  },
  {
   "cell_type": "code",
   "execution_count": 13,
   "metadata": {},
   "outputs": [
    {
     "name": "stdout",
     "output_type": "stream",
     "text": [
      "/spaceimages/images/wallpaper/PIA16883-1920x1200.jpg\n"
     ]
    }
   ],
   "source": [
    "print(img_url)"
   ]
  },
  {
   "cell_type": "code",
   "execution_count": 14,
   "metadata": {},
   "outputs": [],
   "source": [
    "#quit the running browser\n",
    "browser.quit()"
   ]
  },
  {
   "cell_type": "markdown",
   "metadata": {},
   "source": [
    "## Mars Facts\n",
    "- scrape using read_html\n",
    "- create a data frame\n",
    "- convert to html table string"
   ]
  },
  {
   "cell_type": "code",
   "execution_count": 15,
   "metadata": {},
   "outputs": [],
   "source": [
    "#url of the page to be scraped\n",
    "url = 'https://space-facts.com/mars/'"
   ]
  },
  {
   "cell_type": "code",
   "execution_count": 16,
   "metadata": {},
   "outputs": [],
   "source": [
    "#perform the scrape\n",
    "table = pd.read_html(url)"
   ]
  },
  {
   "cell_type": "code",
   "execution_count": 17,
   "metadata": {},
   "outputs": [],
   "source": [
    "#creat a dataframe from the scrape\n",
    "df = table[0]"
   ]
  },
  {
   "cell_type": "code",
   "execution_count": 18,
   "metadata": {},
   "outputs": [],
   "source": [
    "#get the HTML table string\n",
    "html_table = df.to_html()"
   ]
  },
  {
   "cell_type": "markdown",
   "metadata": {},
   "source": [
    "## Mars Hemispheres\n",
    "- opening the browser\n",
    "- looping through the websitet to grab the title and URL"
   ]
  },
  {
   "cell_type": "code",
   "execution_count": 26,
   "metadata": {},
   "outputs": [],
   "source": [
    "#opening the browser\n",
    "browser = Browser('chrome', **executable_path, headless=False)\n",
    "\n",
    "#url of the page to be scraped\n",
    "url = 'https://astrogeology.usgs.gov/search/results?q=hemisphere+enhanced&k1=target&v1=Mars'\n",
    "\n",
    "#get splinter to visit the url\n",
    "browser.visit(url)"
   ]
  },
  {
   "cell_type": "code",
   "execution_count": 27,
   "metadata": {},
   "outputs": [],
   "source": [
    "links = browser.find_by_css('a.product-item h3')\n",
    "\n",
    "hemisphere_image_urls = []\n",
    "\n",
    "main_url = 'https://astrogeology.usgs.gov'\n",
    "for x in range(len(links)):\n",
    "    mars = {}\n",
    "    \n",
    "    browser.find_by_css('a.product-item h3')[x].click()\n",
    "    \n",
    "    soup = BeautifulSoup(browser.html, 'html.parser')\n",
    "    \n",
    "    mars['title'] = soup.find('h2', class_ = 'title').text\n",
    "    \n",
    "    browser.links.find_by_partial_text('Open').click()\n",
    "    \n",
    "    mars['img_url'] = main_url + str(soup.find('img', class_='wide-image')['src'])\n",
    "    \n",
    "    hemisphere_image_urls.append(mars)\n",
    "    \n",
    "    browser.visit(url)\n",
    "    \n",
    "browser.quit()"
   ]
  },
  {
   "cell_type": "code",
   "execution_count": 28,
   "metadata": {},
   "outputs": [
    {
     "name": "stdout",
     "output_type": "stream",
     "text": [
      "{'featured img': '/spaceimages/images/wallpaper/PIA16883-1920x1200.jpg',\n",
      " 'hemispheres': [{'img_url': 'https://astrogeology.usgs.gov/cache/images/f5e372a36edfa389625da6d0cc25d905_cerberus_enhanced.tif_full.jpg',\n",
      "                  'title': 'Cerberus Hemisphere Enhanced'},\n",
      "                 {'img_url': 'https://astrogeology.usgs.gov/cache/images/3778f7b43bbbc89d6e3cfabb3613ba93_schiaparelli_enhanced.tif_full.jpg',\n",
      "                  'title': 'Schiaparelli Hemisphere Enhanced'},\n",
      "                 {'img_url': 'https://astrogeology.usgs.gov/cache/images/555e6403a6ddd7ba16ddb0e471cadcf7_syrtis_major_enhanced.tif_full.jpg',\n",
      "                  'title': 'Syrtis Major Hemisphere Enhanced'},\n",
      "                 {'img_url': 'https://astrogeology.usgs.gov/cache/images/b3c7c6c9138f57b4756be9b9c43e3a48_valles_marineris_enhanced.tif_full.jpg',\n",
      "                  'title': 'Valles Marineris Hemisphere Enhanced'}],\n",
      " 'news paragraph': \"NASA's Perseverance rover carries a device to convert \"\n",
      "                   'Martian air into oxygen that, if produced on a larger '\n",
      "                   'scale, could be used not just for breathing, but also for '\n",
      "                   'fuel.',\n",
      " 'news title': 'MOXIE Could Help Future Rockets Launch Off Mars',\n",
      " 'table': '<table border=\"1\" class=\"dataframe\">\\n'\n",
      "          '  <thead>\\n'\n",
      "          '    <tr style=\"text-align: right;\">\\n'\n",
      "          '      <th></th>\\n'\n",
      "          '      <th>0</th>\\n'\n",
      "          '      <th>1</th>\\n'\n",
      "          '    </tr>\\n'\n",
      "          '  </thead>\\n'\n",
      "          '  <tbody>\\n'\n",
      "          '    <tr>\\n'\n",
      "          '      <th>0</th>\\n'\n",
      "          '      <td>Equatorial Diameter:</td>\\n'\n",
      "          '      <td>6,792 km</td>\\n'\n",
      "          '    </tr>\\n'\n",
      "          '    <tr>\\n'\n",
      "          '      <th>1</th>\\n'\n",
      "          '      <td>Polar Diameter:</td>\\n'\n",
      "          '      <td>6,752 km</td>\\n'\n",
      "          '    </tr>\\n'\n",
      "          '    <tr>\\n'\n",
      "          '      <th>2</th>\\n'\n",
      "          '      <td>Mass:</td>\\n'\n",
      "          '      <td>6.39 × 10^23 kg (0.11 Earths)</td>\\n'\n",
      "          '    </tr>\\n'\n",
      "          '    <tr>\\n'\n",
      "          '      <th>3</th>\\n'\n",
      "          '      <td>Moons:</td>\\n'\n",
      "          '      <td>2 (Phobos &amp; Deimos)</td>\\n'\n",
      "          '    </tr>\\n'\n",
      "          '    <tr>\\n'\n",
      "          '      <th>4</th>\\n'\n",
      "          '      <td>Orbit Distance:</td>\\n'\n",
      "          '      <td>227,943,824 km (1.38 AU)</td>\\n'\n",
      "          '    </tr>\\n'\n",
      "          '    <tr>\\n'\n",
      "          '      <th>5</th>\\n'\n",
      "          '      <td>Orbit Period:</td>\\n'\n",
      "          '      <td>687 days (1.9 years)</td>\\n'\n",
      "          '    </tr>\\n'\n",
      "          '    <tr>\\n'\n",
      "          '      <th>6</th>\\n'\n",
      "          '      <td>Surface Temperature:</td>\\n'\n",
      "          '      <td>-87 to -5 °C</td>\\n'\n",
      "          '    </tr>\\n'\n",
      "          '    <tr>\\n'\n",
      "          '      <th>7</th>\\n'\n",
      "          '      <td>First Record:</td>\\n'\n",
      "          '      <td>2nd millennium BC</td>\\n'\n",
      "          '    </tr>\\n'\n",
      "          '    <tr>\\n'\n",
      "          '      <th>8</th>\\n'\n",
      "          '      <td>Recorded By:</td>\\n'\n",
      "          '      <td>Egyptian astronomers</td>\\n'\n",
      "          '    </tr>\\n'\n",
      "          '  </tbody>\\n'\n",
      "          '</table>'}\n"
     ]
    }
   ],
   "source": [
    "mars_dict = {\n",
    "        'news title': news_title,\n",
    "        'news paragraph': news_p,\n",
    "        'featured img': img_url,\n",
    "        'table': html_table,\n",
    "        'hemispheres' : hemisphere_image_urls\n",
    "    }\n",
    "\n",
    "pprint(mars_dict)"
   ]
  },
  {
   "cell_type": "code",
   "execution_count": null,
   "metadata": {},
   "outputs": [],
   "source": []
  }
 ],
 "metadata": {
  "kernelspec": {
   "display_name": "Python [conda env:PythonData] *",
   "language": "python",
   "name": "conda-env-PythonData-py"
  },
  "language_info": {
   "codemirror_mode": {
    "name": "ipython",
    "version": 3
   },
   "file_extension": ".py",
   "mimetype": "text/x-python",
   "name": "python",
   "nbconvert_exporter": "python",
   "pygments_lexer": "ipython3",
   "version": "3.8.5"
  },
  "toc-autonumbering": false
 },
 "nbformat": 4,
 "nbformat_minor": 4
}
